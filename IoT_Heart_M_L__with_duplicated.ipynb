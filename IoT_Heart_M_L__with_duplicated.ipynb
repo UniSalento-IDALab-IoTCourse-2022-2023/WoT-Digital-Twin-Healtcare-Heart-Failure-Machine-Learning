{
  "nbformat": 4,
  "nbformat_minor": 0,
  "metadata": {
    "colab": {
      "provenance": [],
      "collapsed_sections": [
        "W_PLIphIKTsh"
      ]
    },
    "kernelspec": {
      "name": "python3",
      "display_name": "Python 3"
    },
    "language_info": {
      "name": "python"
    }
  },
  "cells": [
    {
      "cell_type": "markdown",
      "source": [
        "#Import (ignore)"
      ],
      "metadata": {
        "id": "W_PLIphIKTsh"
      }
    },
    {
      "cell_type": "code",
      "source": [
        "import numpy as np\n",
        "import pandas as pd\n",
        "\n",
        "# Plot\n",
        "from matplotlib import pyplot as plt\n",
        "import seaborn as sn\n",
        "\n",
        "# Features Selection\n",
        "from sklearn.ensemble import ExtraTreesClassifier\n",
        "\n",
        "# Split Sataset\n",
        "from sklearn.preprocessing import MinMaxScaler\n",
        "from sklearn.model_selection import train_test_split\n",
        "\n",
        "# K-Fold Cross Validation\n",
        "from sklearn import model_selection\n",
        "\n",
        "# Algorithms\n",
        "from sklearn.linear_model import LogisticRegression\n",
        "from sklearn.tree import DecisionTreeClassifier\n",
        "from sklearn.ensemble import RandomForestClassifier\n",
        "from sklearn.neighbors import KNeighborsClassifier\n",
        "from sklearn.naive_bayes import GaussianNB\n",
        "from sklearn.svm import SVC\n",
        "\n",
        "# Tune Hyperparameters\n",
        "from sklearn.model_selection import GridSearchCV\n",
        "\n",
        "# M.L. Report\n",
        "from sklearn.metrics import accuracy_score , classification_report"
      ],
      "metadata": {
        "id": "4ne-6jeOXKpJ"
      },
      "execution_count": null,
      "outputs": []
    },
    {
      "cell_type": "code",
      "source": [
        "from google.colab import drive\n",
        "drive.mount('/content/drive')"
      ],
      "metadata": {
        "id": "sI-K1Def0hwb",
        "colab": {
          "base_uri": "https://localhost:8080/"
        },
        "outputId": "2af9ce5c-f9b4-4d50-ed23-a98ef3c6a930"
      },
      "execution_count": null,
      "outputs": [
        {
          "output_type": "stream",
          "name": "stdout",
          "text": [
            "Drive already mounted at /content/drive; to attempt to forcibly remount, call drive.mount(\"/content/drive\", force_remount=True).\n"
          ]
        }
      ]
    },
    {
      "cell_type": "code",
      "execution_count": null,
      "metadata": {
        "id": "udXenIl1JUVx"
      },
      "outputs": [],
      "source": [
        "data = pd.read_csv('/content/drive/MyDrive/Colab Notebooks/IoT_Heart/heart.csv')"
      ]
    },
    {
      "cell_type": "markdown",
      "source": [
        "# Abstract\n",
        "The only purpose of this paper is to obtain the final score for the dataset with duplicate observations.\n",
        "\n",
        "This final score will be used in another document to evaluate the impact on true accuracy, this is why comments will be reduced to a minimum (and also because they are dealt with in more detail in the other document)."
      ],
      "metadata": {
        "id": "J_R7TARqj8jf"
      }
    },
    {
      "cell_type": "markdown",
      "source": [
        "#**Dataset**\n",
        "\n",
        "\n",
        "\n",
        "\n",
        "\n",
        "| Features | Description | Possible values |\n",
        "| --- | --- | --- |\n",
        "| age |  |  |\n",
        "| sex |  | 1 = Male, 0 = Female |\n",
        "| cp | chest pain type | 0 = Typical Angina 1 = Atypical Angina, 2 = Non-anginal Pain, 3 = Asymptomatic |\n",
        "| trestbps | resting blood pressure, mmHg |  |\n",
        "| chol | serum cholestoral in mg/dl |  |\n",
        "| fbs | fasting blood sugar > 120 mg/dl | 0 = False, 1 = True |\n",
        "| restecg | resting electrocardiographic results | 0 = Normal, 1 = ST-T Wave Abnormality, 2 = Showing probable or definite left ventricular hypertrophy |\n",
        "| thalach | maximum heart rate achieve |  |\n",
        "| exang | exercise induced angina | 1 = Yes, 0 = No |\n",
        "| oldpeak | ST depression induced by exercise relative to rest |  |\n",
        "| slope\t | The slope of the peak exercise ST segment | 0 = Upsloping, 2 = Flat, 3 = Downsloping |\n",
        "| ca | number of major vessels (0-3) colored by flourosopy |  |\n",
        "| thal | A blood disorder known as thalassaemia | 3 = Normal, 6 = Fixed Defect, 7 = Reversible Defect |\n",
        "| target | The patient has a heart disease | 0 = No, 1 = Yes |\n",
        "\n",
        "        \n",
        "\n",
        "trestbps: The optimal blood pressure level is a reading under 120/80 mmHg. A reading that is higher would be considered elevated or high.\n",
        "\n",
        "chol: The desirable cholesterol level for adults is less than 200 mg/dl.\n",
        "        \n",
        "      \n",
        "        \n",
        "\n",
        "\n"
      ],
      "metadata": {
        "id": "V3YYqBdZKKVR"
      }
    },
    {
      "cell_type": "markdown",
      "source": [
        "## Rename features"
      ],
      "metadata": {
        "id": "F3uEokLJsbdC"
      }
    },
    {
      "cell_type": "code",
      "source": [
        "data.columns = ['age', 'sex', 'chest_pain', 'rest_blood_pressure', 'cholesterol', 'fast_blood_sugar', 'rest_ecg', 'max_heart_rate',\n",
        "       'exercise_induced_angina', 'st_depression', 'st_slope', 'num_major_vessels', 'thalassaemia', 'target']\n"
      ],
      "metadata": {
        "id": "CZuMRvFDp_EV"
      },
      "execution_count": null,
      "outputs": []
    },
    {
      "cell_type": "markdown",
      "source": [
        "# Features Selection"
      ],
      "metadata": {
        "id": "76oWGTkdLZRB"
      }
    },
    {
      "cell_type": "markdown",
      "source": [
        "### Extra Trees Classifier\n"
      ],
      "metadata": {
        "id": "nAWMU_dsso0W"
      }
    },
    {
      "cell_type": "code",
      "source": [
        "X = data.iloc[:,0:13]\n",
        "Y = data.iloc[:,-1] # target column\n",
        "\n",
        "\n",
        "# Building the model\n",
        "extratrees = ExtraTreesClassifier(n_estimators=250 , random_state=0) # n_estimators = # of tree\n",
        "\n",
        "# Training the model\n",
        "extratrees.fit(X,Y)\n",
        "\n",
        "#plot setting\n",
        "sn.set(style=\"darkgrid\")\n",
        "plt.figure(figsize=(10,6))\n",
        "plt.title(\"Top 10 Most Important Features\")\n",
        "\n",
        "\n",
        "#to get the first 10 important for plotting\n",
        "feat_importances = pd.Series(extratrees.feature_importances_, index=X.columns)\n",
        "feat_importances.nlargest(10).plot(kind='bar', color='#33e5ff')\n",
        "\n",
        "\n",
        "# Computing the importance of each feature\n",
        "importance = extratrees.feature_importances_\n",
        "\n",
        "feature_labels=np.array(X.columns)\n",
        "\n",
        "#sort by importance\n",
        "feature_indexes_by_importance = importance.argsort()\n",
        "\n",
        "#print (all feature) in % form, descend\n",
        "for index in feature_indexes_by_importance:\n",
        "    print(\" {} - {:2f}%\".format( feature_labels[index], (importance[index] * 100.0)))\n",
        "\n",
        "\n",
        "plt.show()\n",
        "\n"
      ],
      "metadata": {
        "colab": {
          "base_uri": "https://localhost:8080/",
          "height": 963
        },
        "id": "9swJRofbswN5",
        "outputId": "131c4474-9f2a-40d0-c97d-e2176dd10d4f"
      },
      "execution_count": null,
      "outputs": [
        {
          "output_type": "stream",
          "name": "stdout",
          "text": [
            " fast_blood_sugar - 2.020214%\n",
            " rest_ecg - 3.541009%\n",
            " sex - 5.747829%\n",
            " cholesterol - 5.985939%\n",
            " rest_blood_pressure - 6.212284%\n",
            " st_slope - 6.597077%\n",
            " age - 7.120792%\n",
            " max_heart_rate - 8.856279%\n",
            " st_depression - 9.189949%\n",
            " exercise_induced_angina - 10.125850%\n",
            " thalassaemia - 10.422541%\n",
            " chest_pain - 12.041002%\n",
            " num_major_vessels - 12.139235%\n"
          ]
        },
        {
          "output_type": "display_data",
          "data": {
            "text/plain": [
              "<Figure size 1000x600 with 1 Axes>"
            ],
            "image/png": "[encoded data removed]"
          },
          "metadata": {}
        }
      ]
    },
    {
      "cell_type": "markdown",
      "source": [
        "# Dataset preparation"
      ],
      "metadata": {
        "id": "0BvKLpZrMTka"
      }
    },
    {
      "cell_type": "markdown",
      "source": [
        "### Create new dataset with selected features"
      ],
      "metadata": {
        "id": "kRpXbEDPBXb5"
      }
    },
    {
      "cell_type": "code",
      "source": [
        "data_selected = data[['age', 'chest_pain', 'rest_blood_pressure', 'cholesterol', 'max_heart_rate',\n",
        "       'exercise_induced_angina', 'st_depression', 'st_slope', 'num_major_vessels', 'thalassaemia', 'target']]"
      ],
      "metadata": {
        "id": "BwWXFldqEPaC"
      },
      "execution_count": null,
      "outputs": []
    },
    {
      "cell_type": "markdown",
      "source": [
        "## Split dataset"
      ],
      "metadata": {
        "id": "p1B1Myy6ByLU"
      }
    },
    {
      "cell_type": "code",
      "source": [
        "y = data_selected['target']\n",
        "x = data_selected.drop('target' ,axis=1)\n",
        "\n",
        "scaler = MinMaxScaler()\n",
        "\n",
        "X = pd.DataFrame(scaler.fit_transform(x) , columns = x.columns)\n",
        "\n",
        "X_train , X_test , Y_train , Y_test = train_test_split(X,y ,train_size=0.8) #80% train - 20% test"
      ],
      "metadata": {
        "id": "r7cUN3SjMWLD"
      },
      "execution_count": null,
      "outputs": []
    },
    {
      "cell_type": "markdown",
      "source": [
        "# **Model**\n"
      ],
      "metadata": {
        "id": "GcChd1QKN7OD"
      }
    },
    {
      "cell_type": "markdown",
      "source": [
        "\n",
        "Selected Algorithms:\n",
        "1. Logistic Regression (LR)\n",
        "2. Decision Tree Classifier (DTC)\n",
        "3. Random Forest Classifier (RFC)\n",
        "4. Support Vector Machines (SVM)\n",
        "5. K-Neighbors Classifier (KNN)\n",
        "6. Naive Bayes (NB)"
      ],
      "metadata": {
        "id": "8Ij0y3DLrkzB"
      }
    },
    {
      "cell_type": "markdown",
      "source": [
        "## K-fold Cross Validation"
      ],
      "metadata": {
        "id": "wKQa3AFxCtjq"
      }
    },
    {
      "cell_type": "code",
      "source": [
        "# Classification models\n",
        "models = []\n",
        "models.append(('LR', LogisticRegression(solver='lbfgs', max_iter=5000)))\n",
        "models.append(('DTC', DecisionTreeClassifier()))\n",
        "models.append(('RFC', RandomForestClassifier(n_estimators=100)))\n",
        "models.append(('SVM', SVC(gamma='scale')))\n",
        "models.append(('KNN', KNeighborsClassifier()))\n",
        "models.append(('NB', GaussianNB()))\n",
        "\n",
        "# evaluate accuracy for each model\n",
        "results = []\n",
        "names = []\n",
        "for name, model in models:\n",
        "    kfold = model_selection.KFold(n_splits=10)\n",
        "    cv_results = model_selection.cross_val_score(model, X_train, Y_train, cv=kfold, scoring=\"accuracy\")\n",
        "    results.append(cv_results)\n",
        "    names.append(name)\n",
        "    msg = \"%s: %f (%f)\" % (name, cv_results.mean(), cv_results.std())\n",
        "    print(msg)"
      ],
      "metadata": {
        "colab": {
          "base_uri": "https://localhost:8080/"
        },
        "id": "WO57CkLICw51",
        "outputId": "126b6a1a-416f-458d-ef55-86a1d7eb5da6"
      },
      "execution_count": null,
      "outputs": [
        {
          "output_type": "stream",
          "name": "stdout",
          "text": [
            "LR: 0.824390 (0.045368)\n",
            "DTC: 0.986585 (0.011505)\n",
            "RFC: 0.993902 (0.009832)\n",
            "SVM: 0.864634 (0.026410)\n",
            "KNN: 0.830488 (0.026967)\n",
            "NB: 0.798780 (0.051811)\n"
          ]
        }
      ]
    },
    {
      "cell_type": "markdown",
      "source": [
        "##Tune Hyperparameters\n"
      ],
      "metadata": {
        "id": "-Zo12x5tjxAp"
      }
    },
    {
      "cell_type": "code",
      "source": [
        "#def print_model_paramater(dictionary):\n",
        "#  keys =[]\n",
        "#  values=[]\n",
        "#  stringa = \"\"\n",
        "#  for key, value in dictionary:\n",
        "#      keys.append(key)\n",
        "#      values.append(value)\n",
        "#      stringa+=str(key)+'='+str(value) + ', '\n",
        "#\n",
        "#  print(stringa[:-2])"
      ],
      "metadata": {
        "id": "MS5EOlDnZXbv"
      },
      "execution_count": null,
      "outputs": []
    },
    {
      "cell_type": "markdown",
      "source": [
        "###Logistic Regression"
      ],
      "metadata": {
        "id": "gt-_0XxMh5_k"
      }
    },
    {
      "cell_type": "code",
      "source": [
        "# Create the model\n",
        "logreg = LogisticRegression(random_state=0, max_iter=5000, solver='liblinear')\n",
        "\n",
        "#Parameters for grid search\n",
        "solvers = ['newton-cg', 'lbfgs', 'liblinear']\n",
        "penalty = ['l2']\n",
        "c_values = [100, 10, 1.0, 0.1, 0.01]\n",
        "param_grid = dict(solver=solvers,penalty=penalty,C=c_values)\n",
        "\n",
        "grid = GridSearchCV(estimator=logreg, param_grid=param_grid, cv=5, scoring=\"accuracy\", verbose=1, n_jobs=4) # cv = 5 to use the default 5-fold cross validation\n",
        "\n",
        "# Run grid search on the training data\n",
        "grid.fit(X_train,Y_train)\n",
        "\n",
        "# print score\n",
        "print(\"Accuracy: \",grid.best_score_)\n",
        "print(\"Model: \",grid.best_estimator_)\n",
        "print(\"Best parameters: \",grid.best_params_)\n",
        "#print_model_paramater(grid.best_params_.items())\n",
        "\n",
        "LogisticRegression_best_model = grid.best_estimator_"
      ],
      "metadata": {
        "colab": {
          "base_uri": "https://localhost:8080/"
        },
        "id": "GnrRqqJbp6fk",
        "outputId": "f6a50d27-aebd-4516-c223-f01db84e598c"
      },
      "execution_count": null,
      "outputs": [
        {
          "output_type": "stream",
          "name": "stdout",
          "text": [
            "Fitting 5 folds for each of 15 candidates, totalling 75 fits\n",
            "Accuracy:  0.8365853658536585\n",
            "Model:  LogisticRegression(C=100, max_iter=5000, random_state=0, solver='newton-cg')\n",
            "Best parameters:  {'C': 100, 'penalty': 'l2', 'solver': 'newton-cg'}\n"
          ]
        }
      ]
    },
    {
      "cell_type": "markdown",
      "source": [
        "###Decision Tree"
      ],
      "metadata": {
        "id": "jEF3vVVFh3Bf"
      }
    },
    {
      "cell_type": "code",
      "source": [
        "# Create the model\n",
        "decision_tree = DecisionTreeClassifier(random_state=0)\n",
        "\n",
        "#Parameters for grid search\n",
        "max_depth = [3, 6, 10, 20, 30, 50]\n",
        "max_features = [1.0, 0.5, 0.1]\n",
        "min_samples_leaf = [3, 6, 9, 12, 15, 30]\n",
        "min_samples_split = [2, 4, 8, 15, 25]\n",
        "\n",
        "param_grid = dict(max_depth=max_depth,max_features=max_features,min_samples_leaf=min_samples_leaf,min_samples_split=min_samples_split)\n",
        "\n",
        "grid = GridSearchCV(estimator=decision_tree, param_grid=param_grid, cv=5, scoring=\"accuracy\", verbose=1, n_jobs=4) # cv = 5 to use the default 5-fold cross validation\n",
        "\n",
        "# Run grid search on the training data\n",
        "grid.fit(X_train,Y_train)\n",
        "\n",
        "# print score\n",
        "print(\"Accuracy: \",grid.best_score_)\n",
        "print(\"Model: \",grid.best_estimator_)\n",
        "print(\"Best parameters: \",grid.best_params_)\n",
        "#print_model_paramater(grid.best_params_.items())\n",
        "\n",
        "DecisionTreeClassifier_best_model = grid.best_estimator_"
      ],
      "metadata": {
        "colab": {
          "base_uri": "https://localhost:8080/"
        },
        "id": "RMuG8Xoe-lCu",
        "outputId": "dc97ecbf-9077-4e05-a2d3-454178fc6c7f"
      },
      "execution_count": null,
      "outputs": [
        {
          "output_type": "stream",
          "name": "stdout",
          "text": [
            "Fitting 5 folds for each of 540 candidates, totalling 2700 fits\n",
            "Accuracy:  0.9243902439024391\n",
            "Model:  DecisionTreeClassifier(max_depth=10, max_features=0.5, min_samples_leaf=3,\n",
            "                       random_state=0)\n",
            "Best parameters:  {'max_depth': 10, 'max_features': 0.5, 'min_samples_leaf': 3, 'min_samples_split': 2}\n"
          ]
        }
      ]
    },
    {
      "cell_type": "markdown",
      "source": [
        "###Random Forest"
      ],
      "metadata": {
        "id": "VABDxVBZh0wv"
      }
    },
    {
      "cell_type": "code",
      "source": [
        "# Create the model\n",
        "forest = RandomForestClassifier(random_state=0)\n",
        "\n",
        "#Parameters for grid search\n",
        "n_estimators = [200, 300, 500, 750]\n",
        "max_features = ['sqrt', 'log2']\n",
        "param_grid = dict(n_estimators=n_estimators,max_features=max_features)\n",
        "\n",
        "\n",
        "grid = GridSearchCV(estimator=forest, param_grid=param_grid, cv=5, scoring=\"accuracy\", verbose=1, n_jobs=4) # cv = 5 to use the default 5-fold cross validation\n",
        "\n",
        "# Run grid search on the training data\n",
        "grid.fit(X_train,Y_train)\n",
        "\n",
        "# print score\n",
        "print(\"Accuracy: \",grid.best_score_)\n",
        "print(\"Model: \",grid.best_estimator_)\n",
        "print(\"Best parameters: \",grid.best_params_)\n",
        "#print_model_paramater(grid.best_params_.items())\n",
        "\n",
        "\n",
        "RandomForestClassifier_best_model = grid.best_estimator_"
      ],
      "metadata": {
        "colab": {
          "base_uri": "https://localhost:8080/"
        },
        "id": "rs3Vze7dAAOy",
        "outputId": "2a7e1218-c54b-4858-cd2f-459d9645614e"
      },
      "execution_count": null,
      "outputs": [
        {
          "output_type": "stream",
          "name": "stdout",
          "text": [
            "Fitting 5 folds for each of 8 candidates, totalling 40 fits\n",
            "Accuracy:  0.978048780487805\n",
            "Model:  RandomForestClassifier(n_estimators=200, random_state=0)\n",
            "Best parameters:  {'max_features': 'sqrt', 'n_estimators': 200}\n"
          ]
        }
      ]
    },
    {
      "cell_type": "markdown",
      "source": [
        "###Support Vector Machine (SVM)"
      ],
      "metadata": {
        "id": "gRP6pxTJhww1"
      }
    },
    {
      "cell_type": "code",
      "source": [
        "# Create the model\n",
        "svm = SVC()\n",
        "\n",
        "#Parameters for grid search\n",
        "kernel = ['poly', 'rbf', 'sigmoid']\n",
        "C = [50, 10, 1.0, 0.1, 0.01]\n",
        "gamma = ['scale']\n",
        "param_grid = dict(kernel=kernel,C=C,gamma=gamma)\n",
        "grid = GridSearchCV(estimator=svm, param_grid=param_grid, cv=5, scoring=\"accuracy\", verbose=1, n_jobs=4) # cv = 5 to use the default 5-fold cross validation\n",
        "\n",
        "# Run grid search on the training data\n",
        "grid.fit(X_train,Y_train)\n",
        "\n",
        "# print score\n",
        "print(\"Accuracy: \",grid.best_score_)\n",
        "print(\"Model: \",grid.best_estimator_)\n",
        "print(\"Best parameters: \",grid.best_params_)\n",
        "#print_model_paramater(grid.best_params_.items())\n",
        "\n",
        "SVC_best_model = grid.best_estimator_"
      ],
      "metadata": {
        "colab": {
          "base_uri": "https://localhost:8080/"
        },
        "id": "xPwTt2ueC_Ik",
        "outputId": "b00e1e2f-ecb9-41bd-81f0-e3f88de94b57"
      },
      "execution_count": null,
      "outputs": [
        {
          "output_type": "stream",
          "name": "stdout",
          "text": [
            "Fitting 5 folds for each of 15 candidates, totalling 75 fits\n",
            "Accuracy:  0.9304878048780487\n",
            "Model:  SVC(C=50, kernel='poly')\n",
            "Best parameters:  {'C': 50, 'gamma': 'scale', 'kernel': 'poly'}\n"
          ]
        }
      ]
    },
    {
      "cell_type": "markdown",
      "source": [
        "###K-Nearest Neighbour (KNN)"
      ],
      "metadata": {
        "id": "AlZuvDWIhq5d"
      }
    },
    {
      "cell_type": "code",
      "source": [
        "# Create the model\n",
        "knn = KNeighborsClassifier()\n",
        "\n",
        "#Parameters for grid search\n",
        "n_neighbors = [1, 50]\n",
        "weights = ['uniform', 'distance']\n",
        "metric = ['euclidean', 'manhattan', 'minkowski', 'chebyshev']\n",
        "param_grid = dict(n_neighbors=n_neighbors,weights=weights,metric=metric)\n",
        "grid = GridSearchCV(estimator=knn, param_grid=param_grid, cv=5, scoring=\"accuracy\", verbose=1, n_jobs=4) # cv = 5 to use the default 5-fold cross validation\n",
        "\n",
        "# Run grid search on the training data\n",
        "grid.fit(X_train,Y_train)\n",
        "\n",
        "# print score\n",
        "print(\"Accuracy: \",grid.best_score_)\n",
        "print(\"Model: \",grid.best_estimator_)\n",
        "print(\"Best parameters: \",grid.best_params_)\n",
        "#print_model_paramater(grid.best_params_.items())\n",
        "\n",
        "KNeighborsClassifier_best_model = grid.best_estimator_"
      ],
      "metadata": {
        "colab": {
          "base_uri": "https://localhost:8080/"
        },
        "id": "k3wJSpZlDeon",
        "outputId": "882d1eb2-c321-414b-c0b5-3cdf269532ad"
      },
      "execution_count": null,
      "outputs": [
        {
          "output_type": "stream",
          "name": "stdout",
          "text": [
            "Fitting 5 folds for each of 16 candidates, totalling 80 fits\n",
            "Accuracy:  0.9792682926829268\n",
            "Model:  KNeighborsClassifier(metric='manhattan', n_neighbors=50, weights='distance')\n",
            "Best parameters:  {'metric': 'manhattan', 'n_neighbors': 50, 'weights': 'distance'}\n"
          ]
        }
      ]
    },
    {
      "cell_type": "markdown",
      "source": [
        "###Naive Bayes"
      ],
      "metadata": {
        "id": "tr8Cr8hohmnY"
      }
    },
    {
      "cell_type": "code",
      "source": [
        "# Create the model\n",
        "gaussNB = GaussianNB()\n",
        "\n",
        "#Parameters for grid search\n",
        "var_smoothing= np.logspace(0,-9, num=100)\n",
        "param_grid = dict(var_smoothing=var_smoothing)\n",
        "grid = GridSearchCV(estimator=gaussNB, param_grid=param_grid, cv=5, scoring=\"accuracy\", verbose=1, n_jobs=4) # cv = 5 to use the default 5-fold cross validation\n",
        "\n",
        "# Run grid search on the training data\n",
        "grid.fit(X_train,Y_train)\n",
        "\n",
        "# print score\n",
        "print(\"Accuracy: \",grid.best_score_)\n",
        "print(\"Model: \",grid.best_estimator_)\n",
        "print(\"Best parameters: \",grid.best_params_)\n",
        "#print_model_paramater(grid.best_params_.items())\n",
        "\n",
        "GaussianNB_best_model = grid.best_estimator_"
      ],
      "metadata": {
        "colab": {
          "base_uri": "https://localhost:8080/"
        },
        "id": "mGN9tMnmD_TS",
        "outputId": "684cb80a-3bab-4545-e884-70724f8cb49c"
      },
      "execution_count": null,
      "outputs": [
        {
          "output_type": "stream",
          "name": "stdout",
          "text": [
            "Fitting 5 folds for each of 100 candidates, totalling 500 fits\n",
            "Accuracy:  0.8121951219512196\n",
            "Model:  GaussianNB(var_smoothing=0.01)\n",
            "Best parameters:  {'var_smoothing': 0.01}\n"
          ]
        }
      ]
    },
    {
      "cell_type": "markdown",
      "source": [
        "### Repeat k-Fold Cross Validation with  Tuned  Hyperparameters"
      ],
      "metadata": {
        "id": "fAhayg4EGAHw"
      }
    },
    {
      "cell_type": "code",
      "source": [
        "# Classification models\n",
        "models = []\n",
        "models.append(('LR', LogisticRegression_best_model))\n",
        "models.append(('DTC', DecisionTreeClassifier_best_model))\n",
        "models.append(('RFC', RandomForestClassifier_best_model))\n",
        "models.append(('SVM', SVC_best_model))\n",
        "models.append(('KNN', KNeighborsClassifier_best_model))\n",
        "models.append(('NB', GaussianNB_best_model))\n",
        "\n",
        "\n",
        "# evaluate accuracy for each model\n",
        "tune_results = []\n",
        "for name, model in models:\n",
        "    kfold = model_selection.KFold(n_splits=10)\n",
        "    cv_results = model_selection.cross_val_score(model, X_train, Y_train, cv=kfold, scoring=\"accuracy\")\n",
        "    tune_results.append(cv_results)\n",
        "    #names.append(name)\n",
        "    msg = \"%s: %f (%f)\" % (name, cv_results.mean(), cv_results.std())\n",
        "    print(msg)"
      ],
      "metadata": {
        "colab": {
          "base_uri": "https://localhost:8080/"
        },
        "id": "q6JV5tu6GLN5",
        "outputId": "9f21c283-b5fd-4ffd-f059-2e58ab74c397"
      },
      "execution_count": null,
      "outputs": [
        {
          "output_type": "stream",
          "name": "stdout",
          "text": [
            "LR: 0.832927 (0.041553)\n",
            "DTC: 0.908537 (0.028470)\n",
            "RFC: 0.987805 (0.014429)\n",
            "SVM: 0.936585 (0.025464)\n",
            "KNN: 0.989024 (0.011505)\n",
            "NB: 0.807317 (0.058689)\n"
          ]
        }
      ]
    },
    {
      "cell_type": "code",
      "source": [
        "print(\"Default model\\t\\t\\tTuned model\\t\\t\\tImprovement\")\n",
        "improvement = []\n",
        "final_score = []\n",
        "default_parameter = []\n",
        "best_ml={\"model\": \"\", \"accuracy\" : 0.0, \"counter\" : 0}\n",
        "for i in range(len(names)):\n",
        "  msg = \"%s: %f (%f)\" % (names[i], results[i].mean(), results[i].std())\n",
        "  msg2 = \"%f (%f)\" % (tune_results[i].mean(), results[i].std())\n",
        "  imp = tune_results[i].mean()-results[i].mean()\n",
        "  improvement.append(imp)\n",
        "\n",
        "  print(\"{} \\t {}\\t\\t{}\".format(msg,msg2,improvement[i]))\n",
        "\n",
        "  if (tune_results[i].mean() > results[i].mean()): #there is an improvement\n",
        "    final_score.append(tune_results[i].mean())\n",
        "  else:\n",
        "    final_score.append(results[i].mean())\n",
        "    default_parameter.append(names[i])\n",
        "\n",
        "  if best_ml.get(\"accuracy\") < final_score[i]:\n",
        "    best_ml.update({\"model\": names[i], \"accuracy\" : final_score[i], \"counter\" : i})\n",
        "\n",
        "print(\"\\n\\nFor the following Model there will be use the default parameters: \",default_parameter)\n"
      ],
      "metadata": {
        "colab": {
          "base_uri": "https://localhost:8080/"
        },
        "id": "Kc2S0jNcF_fS",
        "outputId": "ebcb24ef-9449-451e-83e1-37dbe59aed7a"
      },
      "execution_count": null,
      "outputs": [
        {
          "output_type": "stream",
          "name": "stdout",
          "text": [
            "Default model\t\t\tTuned model\t\t\tImprovement\n",
            "LR: 0.819512 (0.048413) \t 0.832927 (0.048413)\t\t0.013414634146341475\n",
            "DTC: 0.985366 (0.015232) \t 0.908537 (0.015232)\t\t-0.076829268292683\n",
            "RFC: 0.987805 (0.007713) \t 0.987805 (0.007713)\t\t0.0\n",
            "SVM: 0.852439 (0.044791) \t 0.936585 (0.044791)\t\t0.08414634146341471\n",
            "KNN: 0.836585 (0.021951) \t 0.989024 (0.021951)\t\t0.15243902439024393\n",
            "NB: 0.804878 (0.053714) \t 0.807317 (0.053714)\t\t0.0024390243902439046\n",
            "\n",
            "\n",
            "For the following Model there will be use the default parameters:  ['DTC', 'RFC']\n"
          ]
        }
      ]
    },
    {
      "cell_type": "code",
      "source": [
        "sn.set(style=\"darkgrid\")\n",
        "index = np.arange(len(names))\n",
        "plt.bar(index, final_score, color='#006658')\n",
        "plt.xlabel('Models', fontsize=10)\n",
        "plt.ylabel('Accuracy Score', fontsize=10)\n",
        "plt.xticks(index, names, fontsize=10)\n",
        "plt.title('K-Fold Accuracy Score Comparison')\n",
        "plt.show()"
      ],
      "metadata": {
        "colab": {
          "base_uri": "https://localhost:8080/",
          "height": 645
        },
        "id": "jjguTDV3Vd9Q",
        "outputId": "a294f946-003f-45bf-a6ff-197377f4c5ea"
      },
      "execution_count": null,
      "outputs": [
        {
          "output_type": "display_data",
          "data": {
            "text/plain": [
              "<Figure size 800x700 with 1 Axes>"
            ],
            "image/png": "[encoded data removed]"
          },
          "metadata": {}
        }
      ]
    },
    {
      "cell_type": "code",
      "source": [
        "print(\"Final Score:\\n\",final_score)"
      ],
      "metadata": {
        "colab": {
          "base_uri": "https://localhost:8080/"
        },
        "id": "2HJZrYM3mtBf",
        "outputId": "83632871-1375-41d0-e4ad-3f3ea50b09a4"
      },
      "execution_count": null,
      "outputs": [
        {
          "output_type": "stream",
          "name": "stdout",
          "text": [
            "Final Score:\n",
            " [0.8329268292682928, 0.9853658536585366, 0.9878048780487806, 0.9365853658536587, 0.9890243902439024, 0.8073170731707318]\n"
          ]
        }
      ]
    },
    {
      "cell_type": "markdown",
      "source": [
        "# Best M.L. model"
      ],
      "metadata": {
        "id": "A9NWSXsEXgGW"
      }
    },
    {
      "cell_type": "code",
      "source": [
        "print(\"\\nBest model is {} with an accuracy of {}%\\n\\n\".format(best_ml.get(\"model\"),round(best_ml.get(\"accuracy\"),4)*100))\n",
        "best_model = models[best_ml.get(\"counter\")][1]\n",
        "best_model"
      ],
      "metadata": {
        "colab": {
          "base_uri": "https://localhost:8080/",
          "height": 148
        },
        "id": "hw6Zvva-S_jI",
        "outputId": "2818bba0-32df-4df2-a3a6-01fe7fdf61d2"
      },
      "execution_count": null,
      "outputs": [
        {
          "output_type": "stream",
          "name": "stdout",
          "text": [
            "\n",
            "Best model is KNN with an accuracy of 98.9%\n",
            "\n",
            "\n"
          ]
        },
        {
          "output_type": "execute_result",
          "data": {
            "text/plain": [
              "KNeighborsClassifier(metric='manhattan', n_neighbors=50, weights='distance')"
            ],
            "text/html": [
              "<style>#sk-container-id-3 {color: black;background-color: white;}#sk-container-id-3 pre{padding: 0;}#sk-container-id-3 div.sk-toggleable {background-color: white;}#sk-container-id-3 label.sk-toggleable__label {cursor: pointer;display: block;width: 100%;margin-bottom: 0;padding: 0.3em;box-sizing: border-box;text-align: center;}#sk-container-id-3 label.sk-toggleable__label-arrow:before {content: \"▸\";float: left;margin-right: 0.25em;color: #696969;}#sk-container-id-3 label.sk-toggleable__label-arrow:hover:before {color: black;}#sk-container-id-3 div.sk-estimator:hover label.sk-toggleable__label-arrow:before {color: black;}#sk-container-id-3 div.sk-toggleable__content {max-height: 0;max-width: 0;overflow: hidden;text-align: left;background-color: #f0f8ff;}#sk-container-id-3 div.sk-toggleable__content pre {margin: 0.2em;color: black;border-radius: 0.25em;background-color: #f0f8ff;}#sk-container-id-3 input.sk-toggleable__control:checked~div.sk-toggleable__content {max-height: 200px;max-width: 100%;overflow: auto;}#sk-container-id-3 input.sk-toggleable__control:checked~label.sk-toggleable__label-arrow:before {content: \"▾\";}#sk-container-id-3 div.sk-estimator input.sk-toggleable__control:checked~label.sk-toggleable__label {background-color: #d4ebff;}#sk-container-id-3 div.sk-label input.sk-toggleable__control:checked~label.sk-toggleable__label {background-color: #d4ebff;}#sk-container-id-3 input.sk-hidden--visually {border: 0;clip: rect(1px 1px 1px 1px);clip: rect(1px, 1px, 1px, 1px);height: 1px;margin: -1px;overflow: hidden;padding: 0;position: absolute;width: 1px;}#sk-container-id-3 div.sk-estimator {font-family: monospace;background-color: #f0f8ff;border: 1px dotted black;border-radius: 0.25em;box-sizing: border-box;margin-bottom: 0.5em;}#sk-container-id-3 div.sk-estimator:hover {background-color: #d4ebff;}#sk-container-id-3 div.sk-parallel-item::after {content: \"\";width: 100%;border-bottom: 1px solid gray;flex-grow: 1;}#sk-container-id-3 div.sk-label:hover label.sk-toggleable__label {background-color: #d4ebff;}#sk-container-id-3 div.sk-serial::before {content: \"\";position: absolute;border-left: 1px solid gray;box-sizing: border-box;top: 0;bottom: 0;left: 50%;z-index: 0;}#sk-container-id-3 div.sk-serial {display: flex;flex-direction: column;align-items: center;background-color: white;padding-right: 0.2em;padding-left: 0.2em;position: relative;}#sk-container-id-3 div.sk-item {position: relative;z-index: 1;}#sk-container-id-3 div.sk-parallel {display: flex;align-items: stretch;justify-content: center;background-color: white;position: relative;}#sk-container-id-3 div.sk-item::before, #sk-container-id-3 div.sk-parallel-item::before {content: \"\";position: absolute;border-left: 1px solid gray;box-sizing: border-box;top: 0;bottom: 0;left: 50%;z-index: -1;}#sk-container-id-3 div.sk-parallel-item {display: flex;flex-direction: column;z-index: 1;position: relative;background-color: white;}#sk-container-id-3 div.sk-parallel-item:first-child::after {align-self: flex-end;width: 50%;}#sk-container-id-3 div.sk-parallel-item:last-child::after {align-self: flex-start;width: 50%;}#sk-container-id-3 div.sk-parallel-item:only-child::after {width: 0;}#sk-container-id-3 div.sk-dashed-wrapped {border: 1px dashed gray;margin: 0 0.4em 0.5em 0.4em;box-sizing: border-box;padding-bottom: 0.4em;background-color: white;}#sk-container-id-3 div.sk-label label {font-family: monospace;font-weight: bold;display: inline-block;line-height: 1.2em;}#sk-container-id-3 div.sk-label-container {text-align: center;}#sk-container-id-3 div.sk-container {/* jupyter's `normalize.less` sets `[hidden] { display: none; }` but bootstrap.min.css set `[hidden] { display: none !important; }` so we also need the `!important` here to be able to override the default hidden behavior on the sphinx rendered scikit-learn.org. See: https://github.com/scikit-learn/scikit-learn/issues/21755 */display: inline-block !important;position: relative;}#sk-container-id-3 div.sk-text-repr-fallback {display: none;}</style><div id=\"sk-container-id-3\" class=\"sk-top-container\"><div class=\"sk-text-repr-fallback\"><pre>KNeighborsClassifier(metric=&#x27;manhattan&#x27;, n_neighbors=50, weights=&#x27;distance&#x27;)</pre><b>In a Jupyter environment, please rerun this cell to show the HTML representation or trust the notebook. <br />On GitHub, the HTML representation is unable to render, please try loading this page with nbviewer.org.</b></div><div class=\"sk-container\" hidden><div class=\"sk-item\"><div class=\"sk-estimator sk-toggleable\"><input class=\"sk-toggleable__control sk-hidden--visually\" id=\"sk-estimator-id-3\" type=\"checkbox\" checked><label for=\"sk-estimator-id-3\" class=\"sk-toggleable__label sk-toggleable__label-arrow\">KNeighborsClassifier</label><div class=\"sk-toggleable__content\"><pre>KNeighborsClassifier(metric=&#x27;manhattan&#x27;, n_neighbors=50, weights=&#x27;distance&#x27;)</pre></div></div></div></div></div>"
            ]
          },
          "metadata": {},
          "execution_count": 75
        }
      ]
    },
    {
      "cell_type": "code",
      "source": [
        "y_pred = best_model.predict(X_test)\n",
        "print(classification_report(Y_test , y_pred))"
      ],
      "metadata": {
        "colab": {
          "base_uri": "https://localhost:8080/"
        },
        "id": "AsaY9SshZmv2",
        "outputId": "02d551b6-5466-4e4d-f6f9-ebf3a0aca689"
      },
      "execution_count": null,
      "outputs": [
        {
          "output_type": "stream",
          "name": "stdout",
          "text": [
            "              precision    recall  f1-score   support\n",
            "\n",
            "           0       1.00      1.00      1.00        96\n",
            "           1       1.00      1.00      1.00       109\n",
            "\n",
            "    accuracy                           1.00       205\n",
            "   macro avg       1.00      1.00      1.00       205\n",
            "weighted avg       1.00      1.00      1.00       205\n",
            "\n"
          ]
        }
      ]
    },
    {
      "cell_type": "markdown",
      "source": [
        "# Dataset Cite\n",
        "```\n",
        "Janosi,Andras, Steinbrunn,William, Pfisterer,Matthias, and Detrano,Robert.\n",
        "(1988).\n",
        "Heart Disease.\n",
        "UCI Machine Learning Repository.\n",
        "https://doi.org/10.24432/C52P4X.\n",
        "\n",
        "```"
      ],
      "metadata": {
        "id": "yvH1qWxGsKdM"
      }
    }
  ]
}